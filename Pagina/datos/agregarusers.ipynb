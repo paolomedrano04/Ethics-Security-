{
 "cells": [
  {
   "cell_type": "code",
   "execution_count": 11,
   "id": "45bc269b",
   "metadata": {},
   "outputs": [],
   "source": [
    "import hashlib\n",
    "import psycopg2\n",
    "from psycopg2 import sql\n",
    "from getpass import getpass"
   ]
  },
  {
   "cell_type": "markdown",
   "id": "effa248f",
   "metadata": {},
   "source": [
    "## Parámetros de conexión a PostgreSQL"
   ]
  },
  {
   "cell_type": "code",
   "execution_count": 12,
   "id": "694a7ff1",
   "metadata": {},
   "outputs": [],
   "source": [
    "DB_CONFIG = {\n",
    "    'host': 'localhost',\n",
    "    'port': 5432,\n",
    "    'dbname': 'etica',\n",
    "    'user': 'postgres',\n",
    "    'password': '1234'\n",
    "}"
   ]
  },
  {
   "cell_type": "markdown",
   "id": "2812e0dd",
   "metadata": {},
   "source": [
    "## Función para hashear contraseñas con SHA-256"
   ]
  },
  {
   "cell_type": "code",
   "execution_count": 13,
   "id": "6fd57250",
   "metadata": {},
   "outputs": [],
   "source": [
    "def hash_password(password: str) -> str:\n",
    "    \"\"\"\n",
    "    Recibe una contraseña en texto plano y retorna su hash SHA-256 en hexadecimal.\n",
    "    \"\"\"\n",
    "    return hashlib.sha256(password.encode('utf-8')).hexdigest()\n"
   ]
  },
  {
   "cell_type": "markdown",
   "id": "f5663b50",
   "metadata": {},
   "source": [
    "## Función para generar registro_id automático según rol"
   ]
  },
  {
   "cell_type": "code",
   "execution_count": 14,
   "id": "590fa5a8",
   "metadata": {},
   "outputs": [],
   "source": [
    "def generar_registro_id(role: str) -> str:\n",
    "    \"\"\"\n",
    "    Genera un registro_id con la primera letra del rol (E, P, S, A)\n",
    "    seguido de 8 dígitos secuenciales basados en el mayor existente.\n",
    "    \"\"\"\n",
    "    # Mapeo de roles a prefijos\n",
    "    role_map = {\n",
    "        'estudiante': 'E',\n",
    "        'profesor': 'P',\n",
    "        'supervisor': 'S',\n",
    "        'administrador': 'A'\n",
    "    }\n",
    "    prefijo = role_map.get(role.lower())\n",
    "    if not prefijo:\n",
    "        raise ValueError(f\"Rol inválido: {role}\")\n",
    "\n",
    "    conn = psycopg2.connect(**DB_CONFIG)\n",
    "    try:\n",
    "        cur = conn.cursor()\n",
    "        # Buscar el máximo registro_id existente para este prefijo\n",
    "        cur.execute(\n",
    "            sql.SQL(\"SELECT MAX(registro_id) FROM users WHERE registro_id LIKE %s\"),\n",
    "            (prefijo + '%',)\n",
    "        )\n",
    "        max_id = cur.fetchone()[0]\n",
    "        if max_id:\n",
    "            secuencia = int(max_id[1:]) + 1\n",
    "        else:\n",
    "            secuencia = 1\n",
    "        # Formatear con cero-padding a 8 dígitos\n",
    "        nuevo_id = prefijo + str(secuencia).zfill(8)\n",
    "        return nuevo_id\n",
    "    finally:\n",
    "        cur.close()\n",
    "        conn.close()"
   ]
  },
  {
   "cell_type": "markdown",
   "id": "e0dbc894",
   "metadata": {},
   "source": [
    "## Función para insertar un usuario en la tabla `users`"
   ]
  },
  {
   "cell_type": "code",
   "execution_count": 15,
   "id": "8579b27c",
   "metadata": {},
   "outputs": [],
   "source": [
    "def agregar_usuario(\n",
    "    registro_id: str,\n",
    "    first_name: str,\n",
    "    middle_name: str,\n",
    "    last_name: str,\n",
    "    second_last_name: str,\n",
    "    email: str,\n",
    "    plain_password: str,\n",
    "    role: str\n",
    "):\n",
    "    \"\"\"\n",
    "    Inserta un nuevo usuario en la tabla `users`.\n",
    "    \"\"\"\n",
    "    pwd_hash = hash_password(plain_password)\n",
    "    conn = None\n",
    "    try:\n",
    "        conn = psycopg2.connect(**DB_CONFIG)\n",
    "        cur = conn.cursor()\n",
    "\n",
    "        insert_query = sql.SQL(\n",
    "            \"\"\"\n",
    "            INSERT INTO users (\n",
    "                registro_id, first_name, middle_name,\n",
    "                last_name, second_last_name, email,\n",
    "                password, role\n",
    "            ) VALUES (%s, %s, %s, %s, %s, %s, %s, %s);\n",
    "            \"\"\"\n",
    "        )\n",
    "        cur.execute(\n",
    "            insert_query,\n",
    "            (\n",
    "                registro_id,\n",
    "                first_name,\n",
    "                middle_name,\n",
    "                last_name,\n",
    "                second_last_name,\n",
    "                email,\n",
    "                pwd_hash,\n",
    "                role.lower()\n",
    "            )\n",
    "        )\n",
    "        conn.commit()\n",
    "        print(f\"✔ Usuario {email} agregado correctamente con ID {registro_id}.\")\n",
    "\n",
    "    except Exception as e:\n",
    "        if conn:\n",
    "            conn.rollback()\n",
    "        print(f\"❌ Error al agregar usuario: {e}\")\n",
    "\n",
    "    finally:\n",
    "        if conn:\n",
    "            cur.close()\n",
    "            conn.close()\n"
   ]
  },
  {
   "cell_type": "markdown",
   "id": "fe1c7e3a",
   "metadata": {},
   "source": [
    "## Interfaz interactiva (ejecución desde consola)"
   ]
  },
  {
   "cell_type": "code",
   "execution_count": 16,
   "id": "7e0d6802",
   "metadata": {},
   "outputs": [
    {
     "name": "stdout",
     "output_type": "stream",
     "text": [
      "=== Agregar nuevo usuario ===\n",
      "Registro ID generado: P00000001\n",
      "✔ Usuario a@nulllllll.com agregado correctamente con ID P00000001.\n"
     ]
    }
   ],
   "source": [
    "if __name__ == \"__main__\":\n",
    "    print(\"=== Agregar nuevo usuario ===\")\n",
    "    role = input(\"Rol (estudiante/profesor/supervisor/administrador): \")\n",
    "    try:\n",
    "        registro_id = generar_registro_id(role)\n",
    "    except ValueError as ve:\n",
    "        print(ve)\n",
    "        exit(1)\n",
    "    print(f\"Registro ID generado: {registro_id}\")\n",
    "\n",
    "    first_name = input(\"Nombres: \")\n",
    "    middle_name = input(\"Segundo nombre (opcional): \")\n",
    "    last_name = input(\"Apellido paterno: \")\n",
    "    second_last_name = input(\"Apellido materno: \")\n",
    "    email = input(\"Correo electrónico: \")\n",
    "    plain_password = getpass(\"Contraseña: \")\n",
    "\n",
    "    agregar_usuario(\n",
    "        registro_id,\n",
    "        first_name,\n",
    "        middle_name,\n",
    "        last_name,\n",
    "        second_last_name,\n",
    "        email,\n",
    "        plain_password,\n",
    "        role\n",
    "    )\n"
   ]
  }
 ],
 "metadata": {
  "kernelspec": {
   "display_name": "Python 3",
   "language": "python",
   "name": "python3"
  },
  "language_info": {
   "codemirror_mode": {
    "name": "ipython",
    "version": 3
   },
   "file_extension": ".py",
   "mimetype": "text/x-python",
   "name": "python",
   "nbconvert_exporter": "python",
   "pygments_lexer": "ipython3",
   "version": "3.13.5"
  }
 },
 "nbformat": 4,
 "nbformat_minor": 5
}
